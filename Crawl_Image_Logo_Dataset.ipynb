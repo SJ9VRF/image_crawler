{
  "nbformat": 4,
  "nbformat_minor": 0,
  "metadata": {
    "colab": {
      "provenance": []
    },
    "kernelspec": {
      "name": "python3",
      "display_name": "Python 3"
    },
    "language_info": {
      "name": "python"
    }
  },
  "cells": [
    {
      "cell_type": "code",
      "source": [
        "import icrawler\n",
        "from icrawler.builtin import GoogleImageCrawler"
      ],
      "metadata": {
        "id": "01nvS0b0HUsp"
      },
      "execution_count": null,
      "outputs": []
    },
    {
      "cell_type": "code",
      "source": [
        "from google.colab import drive\n",
        "drive.mount('/content/drive')"
      ],
      "metadata": {
        "colab": {
          "base_uri": "https://localhost:8080/"
        },
        "id": "w_DqtVEyIxDq",
        "outputId": "3aaf335d-0741-4b84-d8c2-ab12fdac01e3"
      },
      "execution_count": null,
      "outputs": [
        {
          "output_type": "stream",
          "name": "stdout",
          "text": [
            "Mounted at /content/drive\n"
          ]
        }
      ]
    },
    {
      "cell_type": "code",
      "source": [
        "drive_path = \"/content/drive/My Drive/crawled-logo/Ram/\"\n",
        "google_crawler = GoogleImageCrawler(\n",
        "    parser_threads=2, \n",
        "    downloader_threads=2,\n",
        "    storage={'root_dir': drive_path})\n",
        "google_crawler.crawl( keyword='Ram logo on car',\n",
        "    max_num=1000)"
      ],
      "metadata": {
        "colab": {
          "base_uri": "https://localhost:8080/"
        },
        "id": "_DaS_Bx_LbMV",
        "outputId": "f4fee0f4-5eaa-4690-b2a5-c47074a0a2d6"
      },
      "execution_count": null,
      "outputs": [
        {
          "output_type": "stream",
          "name": "stderr",
          "text": [
            "ERROR:downloader:Exception caught when downloading file https://w7.png, error: HTTPSConnectionPool(host='w7.png', port=443): Max retries exceeded with url: / (Caused by NewConnectionError('<urllib3.connection.VerifiedHTTPSConnection object at 0x7f4c1f8d6e20>: Failed to establish a new connection: [Errno -2] Name or service not known')), remaining retry times: 2\n",
            "ERROR:downloader:Exception caught when downloading file https://w7.png, error: HTTPSConnectionPool(host='w7.png', port=443): Max retries exceeded with url: / (Caused by NewConnectionError('<urllib3.connection.VerifiedHTTPSConnection object at 0x7f4c1f8d6f10>: Failed to establish a new connection: [Errno -2] Name or service not known')), remaining retry times: 1\n",
            "ERROR:downloader:Exception caught when downloading file https://w7.png, error: HTTPSConnectionPool(host='w7.png', port=443): Max retries exceeded with url: / (Caused by NewConnectionError('<urllib3.connection.VerifiedHTTPSConnection object at 0x7f4c1f8d6e20>: Failed to establish a new connection: [Errno -2] Name or service not known')), remaining retry times: 0\n",
            "ERROR:downloader:Response status code 400, file https://media.gettyimages.com/id/1032903826/photo/a-view-of-ram-logo-in-south-edmonton-common-a-retail-power-centre-located-in-edmonton-alberta.jpg\n",
            "ERROR:downloader:Response status code 400, file https://media.gettyimages.com/id/1041184802/photo/the-ram-logo-at-the-north-american-international-auto-show-at-cobo-center-detroit-in-detroit.jpg\n"
          ]
        }
      ]
    }
  ]
}